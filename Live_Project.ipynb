{
 "cells": [
  {
   "cell_type": "code",
   "execution_count": 1,
   "metadata": {},
   "outputs": [],
   "source": [
    "import pandas as pd \n",
    "import numpy as np\n",
    "import matplotlib.pyplot as plt\n",
    "import seaborn as sns\n",
    "import plotly.express as px\n",
    "from matplotlib import figure"
   ]
  },
  {
   "cell_type": "code",
   "execution_count": 2,
   "metadata": {},
   "outputs": [
    {
     "data": {
      "text/html": [
       "<div>\n",
       "<style scoped>\n",
       "    .dataframe tbody tr th:only-of-type {\n",
       "        vertical-align: middle;\n",
       "    }\n",
       "\n",
       "    .dataframe tbody tr th {\n",
       "        vertical-align: top;\n",
       "    }\n",
       "\n",
       "    .dataframe thead th {\n",
       "        text-align: right;\n",
       "    }\n",
       "</style>\n",
       "<table border=\"1\" class=\"dataframe\">\n",
       "  <thead>\n",
       "    <tr style=\"text-align: right;\">\n",
       "      <th></th>\n",
       "      <th>frame.number</th>\n",
       "      <th>frame.time</th>\n",
       "      <th>frame.len</th>\n",
       "      <th>eth.src</th>\n",
       "      <th>eth.dst</th>\n",
       "      <th>ip.src</th>\n",
       "      <th>ip.dst</th>\n",
       "      <th>ip.proto</th>\n",
       "      <th>ip.len</th>\n",
       "      <th>tcp.len</th>\n",
       "      <th>tcp.srcport</th>\n",
       "      <th>tcp.dstport</th>\n",
       "      <th>Value</th>\n",
       "      <th>normality</th>\n",
       "    </tr>\n",
       "  </thead>\n",
       "  <tbody>\n",
       "    <tr>\n",
       "      <th>0</th>\n",
       "      <td>1</td>\n",
       "      <td>1.237230e+14</td>\n",
       "      <td>54</td>\n",
       "      <td>8.797200e+13</td>\n",
       "      <td>1.672760e+14</td>\n",
       "      <td>1.921680e+08</td>\n",
       "      <td>1.921680e+09</td>\n",
       "      <td>6</td>\n",
       "      <td>40.0</td>\n",
       "      <td>0.0</td>\n",
       "      <td>49279.0</td>\n",
       "      <td>80</td>\n",
       "      <td>-99.0</td>\n",
       "      <td>0</td>\n",
       "    </tr>\n",
       "    <tr>\n",
       "      <th>1</th>\n",
       "      <td>2</td>\n",
       "      <td>1.237230e+14</td>\n",
       "      <td>62</td>\n",
       "      <td>8.797200e+13</td>\n",
       "      <td>1.672760e+14</td>\n",
       "      <td>1.921680e+08</td>\n",
       "      <td>1.921680e+09</td>\n",
       "      <td>6</td>\n",
       "      <td>48.0</td>\n",
       "      <td>0.0</td>\n",
       "      <td>56521.0</td>\n",
       "      <td>80</td>\n",
       "      <td>-99.0</td>\n",
       "      <td>0</td>\n",
       "    </tr>\n",
       "    <tr>\n",
       "      <th>2</th>\n",
       "      <td>3</td>\n",
       "      <td>1.237230e+14</td>\n",
       "      <td>62</td>\n",
       "      <td>1.672760e+14</td>\n",
       "      <td>8.797200e+13</td>\n",
       "      <td>1.921680e+09</td>\n",
       "      <td>1.921680e+08</td>\n",
       "      <td>6</td>\n",
       "      <td>48.0</td>\n",
       "      <td>0.0</td>\n",
       "      <td>80.0</td>\n",
       "      <td>56521</td>\n",
       "      <td>-99.0</td>\n",
       "      <td>0</td>\n",
       "    </tr>\n",
       "    <tr>\n",
       "      <th>3</th>\n",
       "      <td>4</td>\n",
       "      <td>1.237230e+14</td>\n",
       "      <td>54</td>\n",
       "      <td>1.672760e+14</td>\n",
       "      <td>8.797200e+13</td>\n",
       "      <td>1.921680e+09</td>\n",
       "      <td>1.921680e+08</td>\n",
       "      <td>6</td>\n",
       "      <td>40.0</td>\n",
       "      <td>0.0</td>\n",
       "      <td>80.0</td>\n",
       "      <td>49279</td>\n",
       "      <td>-99.0</td>\n",
       "      <td>0</td>\n",
       "    </tr>\n",
       "    <tr>\n",
       "      <th>4</th>\n",
       "      <td>5</td>\n",
       "      <td>1.237230e+14</td>\n",
       "      <td>54</td>\n",
       "      <td>8.797200e+13</td>\n",
       "      <td>1.672760e+14</td>\n",
       "      <td>1.921680e+08</td>\n",
       "      <td>1.921680e+09</td>\n",
       "      <td>6</td>\n",
       "      <td>40.0</td>\n",
       "      <td>0.0</td>\n",
       "      <td>56521.0</td>\n",
       "      <td>80</td>\n",
       "      <td>-99.0</td>\n",
       "      <td>0</td>\n",
       "    </tr>\n",
       "    <tr>\n",
       "      <th>5</th>\n",
       "      <td>6</td>\n",
       "      <td>1.237230e+14</td>\n",
       "      <td>54</td>\n",
       "      <td>8.797200e+13</td>\n",
       "      <td>1.672760e+14</td>\n",
       "      <td>1.921680e+08</td>\n",
       "      <td>1.921680e+09</td>\n",
       "      <td>6</td>\n",
       "      <td>40.0</td>\n",
       "      <td>0.0</td>\n",
       "      <td>49279.0</td>\n",
       "      <td>80</td>\n",
       "      <td>-99.0</td>\n",
       "      <td>0</td>\n",
       "    </tr>\n",
       "    <tr>\n",
       "      <th>6</th>\n",
       "      <td>7</td>\n",
       "      <td>1.237230e+14</td>\n",
       "      <td>269</td>\n",
       "      <td>8.797200e+13</td>\n",
       "      <td>1.672760e+14</td>\n",
       "      <td>1.921680e+08</td>\n",
       "      <td>1.921680e+09</td>\n",
       "      <td>6</td>\n",
       "      <td>255.0</td>\n",
       "      <td>215.0</td>\n",
       "      <td>56521.0</td>\n",
       "      <td>80</td>\n",
       "      <td>62.0</td>\n",
       "      <td>1</td>\n",
       "    </tr>\n",
       "    <tr>\n",
       "      <th>7</th>\n",
       "      <td>8</td>\n",
       "      <td>1.237230e+14</td>\n",
       "      <td>54</td>\n",
       "      <td>1.672760e+14</td>\n",
       "      <td>8.797200e+13</td>\n",
       "      <td>1.921680e+09</td>\n",
       "      <td>1.921680e+08</td>\n",
       "      <td>6</td>\n",
       "      <td>40.0</td>\n",
       "      <td>0.0</td>\n",
       "      <td>80.0</td>\n",
       "      <td>56521</td>\n",
       "      <td>-99.0</td>\n",
       "      <td>0</td>\n",
       "    </tr>\n",
       "    <tr>\n",
       "      <th>8</th>\n",
       "      <td>9</td>\n",
       "      <td>1.237230e+14</td>\n",
       "      <td>288</td>\n",
       "      <td>1.672760e+14</td>\n",
       "      <td>8.797200e+13</td>\n",
       "      <td>1.921680e+09</td>\n",
       "      <td>1.921680e+08</td>\n",
       "      <td>6</td>\n",
       "      <td>274.0</td>\n",
       "      <td>234.0</td>\n",
       "      <td>80.0</td>\n",
       "      <td>56521</td>\n",
       "      <td>-99.0</td>\n",
       "      <td>0</td>\n",
       "    </tr>\n",
       "    <tr>\n",
       "      <th>9</th>\n",
       "      <td>10</td>\n",
       "      <td>1.237230e+14</td>\n",
       "      <td>54</td>\n",
       "      <td>8.797200e+13</td>\n",
       "      <td>1.672760e+14</td>\n",
       "      <td>1.921680e+08</td>\n",
       "      <td>1.921680e+09</td>\n",
       "      <td>6</td>\n",
       "      <td>40.0</td>\n",
       "      <td>0.0</td>\n",
       "      <td>56521.0</td>\n",
       "      <td>80</td>\n",
       "      <td>-99.0</td>\n",
       "      <td>0</td>\n",
       "    </tr>\n",
       "  </tbody>\n",
       "</table>\n",
       "</div>"
      ],
      "text/plain": [
       "   frame.number    frame.time  frame.len       eth.src       eth.dst  \\\n",
       "0             1  1.237230e+14         54  8.797200e+13  1.672760e+14   \n",
       "1             2  1.237230e+14         62  8.797200e+13  1.672760e+14   \n",
       "2             3  1.237230e+14         62  1.672760e+14  8.797200e+13   \n",
       "3             4  1.237230e+14         54  1.672760e+14  8.797200e+13   \n",
       "4             5  1.237230e+14         54  8.797200e+13  1.672760e+14   \n",
       "5             6  1.237230e+14         54  8.797200e+13  1.672760e+14   \n",
       "6             7  1.237230e+14        269  8.797200e+13  1.672760e+14   \n",
       "7             8  1.237230e+14         54  1.672760e+14  8.797200e+13   \n",
       "8             9  1.237230e+14        288  1.672760e+14  8.797200e+13   \n",
       "9            10  1.237230e+14         54  8.797200e+13  1.672760e+14   \n",
       "\n",
       "         ip.src        ip.dst  ip.proto  ip.len  tcp.len  tcp.srcport  \\\n",
       "0  1.921680e+08  1.921680e+09         6    40.0      0.0      49279.0   \n",
       "1  1.921680e+08  1.921680e+09         6    48.0      0.0      56521.0   \n",
       "2  1.921680e+09  1.921680e+08         6    48.0      0.0         80.0   \n",
       "3  1.921680e+09  1.921680e+08         6    40.0      0.0         80.0   \n",
       "4  1.921680e+08  1.921680e+09         6    40.0      0.0      56521.0   \n",
       "5  1.921680e+08  1.921680e+09         6    40.0      0.0      49279.0   \n",
       "6  1.921680e+08  1.921680e+09         6   255.0    215.0      56521.0   \n",
       "7  1.921680e+09  1.921680e+08         6    40.0      0.0         80.0   \n",
       "8  1.921680e+09  1.921680e+08         6   274.0    234.0         80.0   \n",
       "9  1.921680e+08  1.921680e+09         6    40.0      0.0      56521.0   \n",
       "\n",
       "   tcp.dstport  Value  normality  \n",
       "0           80  -99.0          0  \n",
       "1           80  -99.0          0  \n",
       "2        56521  -99.0          0  \n",
       "3        49279  -99.0          0  \n",
       "4           80  -99.0          0  \n",
       "5           80  -99.0          0  \n",
       "6           80   62.0          1  \n",
       "7        56521  -99.0          0  \n",
       "8        56521  -99.0          0  \n",
       "9           80  -99.0          0  "
      ]
     },
     "execution_count": 2,
     "metadata": {},
     "output_type": "execute_result"
    }
   ],
   "source": [
    "NL_df = pd.read_csv(\"https://raw.githubusercontent.com/Raunak7-09/Live-Project/296aebc042c6ba64ccc0959212a3fd15e41a0a33/Preprocessed_data.csv?token=APRB4NKQCMJBEHGVGPG7UAS65YLUA\")\n",
    "NL_df.head(10)"
   ]
  },
  {
   "cell_type": "markdown",
   "metadata": {},
   "source": [
    "# <b>Frame Number</b>\n",
    "\n",
    "Frame Number in network logs of IoT is nothing but a unit of data transmission in different layers of Iot which is unconventional. It ensures the analysis over the data transmission, its speed, low processing clocks, high density data loading."
   ]
  },
  {
   "cell_type": "code",
   "execution_count": 3,
   "metadata": {},
   "outputs": [
    {
     "data": {
      "text/html": [
       "<div>\n",
       "<style scoped>\n",
       "    .dataframe tbody tr th:only-of-type {\n",
       "        vertical-align: middle;\n",
       "    }\n",
       "\n",
       "    .dataframe tbody tr th {\n",
       "        vertical-align: top;\n",
       "    }\n",
       "\n",
       "    .dataframe thead th {\n",
       "        text-align: right;\n",
       "    }\n",
       "</style>\n",
       "<table border=\"1\" class=\"dataframe\">\n",
       "  <thead>\n",
       "    <tr style=\"text-align: right;\">\n",
       "      <th></th>\n",
       "      <th>fnumber</th>\n",
       "      <th>ftime</th>\n",
       "      <th>flen</th>\n",
       "      <th>esrc</th>\n",
       "      <th>edst</th>\n",
       "      <th>ipsrc</th>\n",
       "      <th>ipdst</th>\n",
       "      <th>ip.proto</th>\n",
       "      <th>iplen</th>\n",
       "      <th>tlen</th>\n",
       "      <th>tsport</th>\n",
       "      <th>tdport</th>\n",
       "      <th>Value</th>\n",
       "      <th>normality</th>\n",
       "    </tr>\n",
       "  </thead>\n",
       "  <tbody>\n",
       "    <tr>\n",
       "      <th>0</th>\n",
       "      <td>1</td>\n",
       "      <td>1.237230e+14</td>\n",
       "      <td>54</td>\n",
       "      <td>8.797200e+13</td>\n",
       "      <td>1.672760e+14</td>\n",
       "      <td>1.921680e+08</td>\n",
       "      <td>1.921680e+09</td>\n",
       "      <td>6</td>\n",
       "      <td>40.0</td>\n",
       "      <td>0.0</td>\n",
       "      <td>49279.0</td>\n",
       "      <td>80</td>\n",
       "      <td>-99.0</td>\n",
       "      <td>0</td>\n",
       "    </tr>\n",
       "    <tr>\n",
       "      <th>1</th>\n",
       "      <td>2</td>\n",
       "      <td>1.237230e+14</td>\n",
       "      <td>62</td>\n",
       "      <td>8.797200e+13</td>\n",
       "      <td>1.672760e+14</td>\n",
       "      <td>1.921680e+08</td>\n",
       "      <td>1.921680e+09</td>\n",
       "      <td>6</td>\n",
       "      <td>48.0</td>\n",
       "      <td>0.0</td>\n",
       "      <td>56521.0</td>\n",
       "      <td>80</td>\n",
       "      <td>-99.0</td>\n",
       "      <td>0</td>\n",
       "    </tr>\n",
       "    <tr>\n",
       "      <th>2</th>\n",
       "      <td>3</td>\n",
       "      <td>1.237230e+14</td>\n",
       "      <td>62</td>\n",
       "      <td>1.672760e+14</td>\n",
       "      <td>8.797200e+13</td>\n",
       "      <td>1.921680e+09</td>\n",
       "      <td>1.921680e+08</td>\n",
       "      <td>6</td>\n",
       "      <td>48.0</td>\n",
       "      <td>0.0</td>\n",
       "      <td>80.0</td>\n",
       "      <td>56521</td>\n",
       "      <td>-99.0</td>\n",
       "      <td>0</td>\n",
       "    </tr>\n",
       "    <tr>\n",
       "      <th>3</th>\n",
       "      <td>4</td>\n",
       "      <td>1.237230e+14</td>\n",
       "      <td>54</td>\n",
       "      <td>1.672760e+14</td>\n",
       "      <td>8.797200e+13</td>\n",
       "      <td>1.921680e+09</td>\n",
       "      <td>1.921680e+08</td>\n",
       "      <td>6</td>\n",
       "      <td>40.0</td>\n",
       "      <td>0.0</td>\n",
       "      <td>80.0</td>\n",
       "      <td>49279</td>\n",
       "      <td>-99.0</td>\n",
       "      <td>0</td>\n",
       "    </tr>\n",
       "    <tr>\n",
       "      <th>4</th>\n",
       "      <td>5</td>\n",
       "      <td>1.237230e+14</td>\n",
       "      <td>54</td>\n",
       "      <td>8.797200e+13</td>\n",
       "      <td>1.672760e+14</td>\n",
       "      <td>1.921680e+08</td>\n",
       "      <td>1.921680e+09</td>\n",
       "      <td>6</td>\n",
       "      <td>40.0</td>\n",
       "      <td>0.0</td>\n",
       "      <td>56521.0</td>\n",
       "      <td>80</td>\n",
       "      <td>-99.0</td>\n",
       "      <td>0</td>\n",
       "    </tr>\n",
       "    <tr>\n",
       "      <th>5</th>\n",
       "      <td>6</td>\n",
       "      <td>1.237230e+14</td>\n",
       "      <td>54</td>\n",
       "      <td>8.797200e+13</td>\n",
       "      <td>1.672760e+14</td>\n",
       "      <td>1.921680e+08</td>\n",
       "      <td>1.921680e+09</td>\n",
       "      <td>6</td>\n",
       "      <td>40.0</td>\n",
       "      <td>0.0</td>\n",
       "      <td>49279.0</td>\n",
       "      <td>80</td>\n",
       "      <td>-99.0</td>\n",
       "      <td>0</td>\n",
       "    </tr>\n",
       "    <tr>\n",
       "      <th>6</th>\n",
       "      <td>7</td>\n",
       "      <td>1.237230e+14</td>\n",
       "      <td>269</td>\n",
       "      <td>8.797200e+13</td>\n",
       "      <td>1.672760e+14</td>\n",
       "      <td>1.921680e+08</td>\n",
       "      <td>1.921680e+09</td>\n",
       "      <td>6</td>\n",
       "      <td>255.0</td>\n",
       "      <td>215.0</td>\n",
       "      <td>56521.0</td>\n",
       "      <td>80</td>\n",
       "      <td>62.0</td>\n",
       "      <td>1</td>\n",
       "    </tr>\n",
       "    <tr>\n",
       "      <th>7</th>\n",
       "      <td>8</td>\n",
       "      <td>1.237230e+14</td>\n",
       "      <td>54</td>\n",
       "      <td>1.672760e+14</td>\n",
       "      <td>8.797200e+13</td>\n",
       "      <td>1.921680e+09</td>\n",
       "      <td>1.921680e+08</td>\n",
       "      <td>6</td>\n",
       "      <td>40.0</td>\n",
       "      <td>0.0</td>\n",
       "      <td>80.0</td>\n",
       "      <td>56521</td>\n",
       "      <td>-99.0</td>\n",
       "      <td>0</td>\n",
       "    </tr>\n",
       "    <tr>\n",
       "      <th>8</th>\n",
       "      <td>9</td>\n",
       "      <td>1.237230e+14</td>\n",
       "      <td>288</td>\n",
       "      <td>1.672760e+14</td>\n",
       "      <td>8.797200e+13</td>\n",
       "      <td>1.921680e+09</td>\n",
       "      <td>1.921680e+08</td>\n",
       "      <td>6</td>\n",
       "      <td>274.0</td>\n",
       "      <td>234.0</td>\n",
       "      <td>80.0</td>\n",
       "      <td>56521</td>\n",
       "      <td>-99.0</td>\n",
       "      <td>0</td>\n",
       "    </tr>\n",
       "    <tr>\n",
       "      <th>9</th>\n",
       "      <td>10</td>\n",
       "      <td>1.237230e+14</td>\n",
       "      <td>54</td>\n",
       "      <td>8.797200e+13</td>\n",
       "      <td>1.672760e+14</td>\n",
       "      <td>1.921680e+08</td>\n",
       "      <td>1.921680e+09</td>\n",
       "      <td>6</td>\n",
       "      <td>40.0</td>\n",
       "      <td>0.0</td>\n",
       "      <td>56521.0</td>\n",
       "      <td>80</td>\n",
       "      <td>-99.0</td>\n",
       "      <td>0</td>\n",
       "    </tr>\n",
       "  </tbody>\n",
       "</table>\n",
       "</div>"
      ],
      "text/plain": [
       "   fnumber         ftime  flen          esrc          edst         ipsrc  \\\n",
       "0        1  1.237230e+14    54  8.797200e+13  1.672760e+14  1.921680e+08   \n",
       "1        2  1.237230e+14    62  8.797200e+13  1.672760e+14  1.921680e+08   \n",
       "2        3  1.237230e+14    62  1.672760e+14  8.797200e+13  1.921680e+09   \n",
       "3        4  1.237230e+14    54  1.672760e+14  8.797200e+13  1.921680e+09   \n",
       "4        5  1.237230e+14    54  8.797200e+13  1.672760e+14  1.921680e+08   \n",
       "5        6  1.237230e+14    54  8.797200e+13  1.672760e+14  1.921680e+08   \n",
       "6        7  1.237230e+14   269  8.797200e+13  1.672760e+14  1.921680e+08   \n",
       "7        8  1.237230e+14    54  1.672760e+14  8.797200e+13  1.921680e+09   \n",
       "8        9  1.237230e+14   288  1.672760e+14  8.797200e+13  1.921680e+09   \n",
       "9       10  1.237230e+14    54  8.797200e+13  1.672760e+14  1.921680e+08   \n",
       "\n",
       "          ipdst  ip.proto  iplen   tlen   tsport  tdport  Value  normality  \n",
       "0  1.921680e+09         6   40.0    0.0  49279.0      80  -99.0          0  \n",
       "1  1.921680e+09         6   48.0    0.0  56521.0      80  -99.0          0  \n",
       "2  1.921680e+08         6   48.0    0.0     80.0   56521  -99.0          0  \n",
       "3  1.921680e+08         6   40.0    0.0     80.0   49279  -99.0          0  \n",
       "4  1.921680e+09         6   40.0    0.0  56521.0      80  -99.0          0  \n",
       "5  1.921680e+09         6   40.0    0.0  49279.0      80  -99.0          0  \n",
       "6  1.921680e+09         6  255.0  215.0  56521.0      80   62.0          1  \n",
       "7  1.921680e+08         6   40.0    0.0     80.0   56521  -99.0          0  \n",
       "8  1.921680e+08         6  274.0  234.0     80.0   56521  -99.0          0  \n",
       "9  1.921680e+09         6   40.0    0.0  56521.0      80  -99.0          0  "
      ]
     },
     "execution_count": 3,
     "metadata": {},
     "output_type": "execute_result"
    }
   ],
   "source": [
    "## renaming the columns name\n",
    "NL_df1 = NL_df.rename(columns = {'frame.number': 'fnumber','frame.time': 'ftime','frame.len': 'flen',\n",
    "                               'eth.src': 'esrc','eth.dst': 'edst','ip.src': 'ipsrc','ip.dst': 'ipdst',\n",
    "                               'ip.porto': 'iproto','ip.len': 'iplen','tcp.len': 'tlen',\n",
    "                               'tcp.srcport': 'tsport','tcp.dstport': 'tdport'})\n",
    "NL_df1.head(10)"
   ]
  },
  {
   "cell_type": "code",
   "execution_count": 4,
   "metadata": {},
   "outputs": [
    {
     "data": {
      "image/png": "[encoded data removed]",
      "text/plain": [
       "<Figure size 720x720 with 1 Axes>"
      ]
     },
     "metadata": {
      "needs_background": "light"
     },
     "output_type": "display_data"
    },
    {
     "data": {
      "image/png": "[encoded data removed]",
      "text/plain": [
       "<Figure size 432x288 with 1 Axes>"
      ]
     },
     "metadata": {
      "needs_background": "light"
     },
     "output_type": "display_data"
    }
   ],
   "source": [
    "data = NL_df.columns.str.strip('frame.number')\n",
    "NL_df.columns = data\n",
    "plt.figure(figsize=(10,10))\n",
    "plt.plot(NL_df.columns, 'b--')\n",
    "NL_df.plot();"
   ]
  },
  {
   "cell_type": "markdown",
   "metadata": {},
   "source": [
    "## Observations:\n",
    "The Above graph signifies the activness of the individual frame in its diffrent layers activity, which is either the activity readings of ethernet, IP or TCP sub-layers and integrated source, destination, length or protocol."
   ]
  },
  {
   "cell_type": "markdown",
   "metadata": {},
   "source": [
    "# frame.time\n",
    "\n",
    "In telecommunication networks, the frame.time is the amount of time from the beginning until the end of a message transmission. In the case of a digital message, it is the time from the first bit until the last bit of a message has left the transmitting node. Packet transmission time = Packet size / Bit rate.\n",
    "\n",
    "\n",
    "# frame.len\n",
    "\n",
    "Essentially, data sent over Ethernet is carried by the frame. An Ethernet frame(frame.len) is between 64 bytes and 1,518 bytes big, depending on the size of the data to be transported.\n",
    "\n",
    "\n",
    "# eth.src\n",
    "\n",
    "In computer networking, an Ethernet frame is a data link layer protocol data unit and uses the underlying Ethernet physical layer transport mechanisms. In other words, a data unit on an Ethernet link transports an Ethernet frame as its payload.\n",
    "\n",
    "\n",
    "# eth.dst\n",
    "\n",
    "It is same as eth.src but the payloads is transmitted to the receiver's ethernet layer.\n",
    "\n",
    "\n",
    "# ip.src \n",
    "\n",
    "Using intellectual property (IP) data, we take a gander at how the internet of things is evolving, who the key players are, and what we might expect in the not-too-distant future. Under this sanction the receivers IP speed is shifted.\n",
    "\n",
    "\n",
    "# ip.dst\n",
    "\n",
    "Actually it is the response to the source(ip.src) at the specific rate.\n",
    "\n",
    "\n",
    "# tcp.len\n",
    "\n",
    "It is the transmission control protocol bit length acceptance and response.\n",
    "\n",
    "\n",
    "# tcp.srcport\n",
    "\n",
    "Gives the uploading rate of the data transmitted.\n",
    "\n",
    "\n",
    "# tcp.dstport\n",
    "\n",
    "Shows the downloading rate of the data received.\n",
    "\n",
    "\n",
    "# value\n",
    "\n",
    "Low power sensor devices generally exist in a Wireless Sensor Network (WSN). This applies to Log Data as the value is often not simply found in the data of log data and IoT data.\n",
    "\n",
    "\n",
    "# normality\n",
    "\n",
    "The condition of being normal; the state of being usual, typical, or expected is termed as normality. Here the normality signifies the extent of data similiarity between the previous data transmitted."
   ]
  },
  {
   "cell_type": "code",
   "execution_count": 5,
   "metadata": {},
   "outputs": [
    {
     "data": {
      "image/png": "[encoded data removed]",
      "text/plain": [
       "<Figure size 1080x1080 with 2 Axes>"
      ]
     },
     "metadata": {
      "needs_background": "light"
     },
     "output_type": "display_data"
    }
   ],
   "source": [
    "f = plt.figure(figsize=(15, 15))\n",
    "plt.matshow(NL_df.corr(), fignum=f.number)\n",
    "plt.xticks(range(NL_df.shape[1]), NL_df.columns, fontsize=10, rotation=45)\n",
    "plt.yticks(range(NL_df.shape[1]), NL_df.columns, fontsize=14)\n",
    "cb = plt.colorbar()\n",
    "cb.ax.tick_params(labelsize=10)\n",
    "plt.title('Correlation Matrix', fontsize=20);"
   ]
  },
  {
   "cell_type": "markdown",
   "metadata": {},
   "source": [
    "## Observations :\n",
    "\n",
    "The above graph resembles which variables need to be studied in pairs, so as to get to the conclusions for defining the IDS of IoT Network Logs. From this graph we will plot some informative graphs in upcoming inlets which would lead to some decisive conclusion."
   ]
  },
  {
   "cell_type": "code",
   "execution_count": 6,
   "metadata": {},
   "outputs": [
    {
     "data": {
      "image/png": "[encoded data removed]",
      "text/plain": [
       "<Figure size 720x504 with 1 Axes>"
      ]
     },
     "metadata": {
      "needs_background": "light"
     },
     "output_type": "display_data"
    }
   ],
   "source": [
    "plt.figure(figsize=[10,7])\n",
    "framenumber_df = NL_df.iloc[:,0]\n",
    "frametime_df = NL_df.iloc[:,1]\n",
    "n, bin, patches = plt.hist(frametime_df, )\n",
    "plt.show()"
   ]
  },
  {
   "cell_type": "markdown",
   "metadata": {},
   "source": [
    "### It shows the duration of the data transmission between the ends of the port. And at the same side it shows the time of the bit from starting to the end."
   ]
  },
  {
   "cell_type": "code",
   "execution_count": 7,
   "metadata": {
    "scrolled": false
   },
   "outputs": [
    {
     "data": {
      "image/png": "[encoded data removed]",
      "text/plain": [
       "<Figure size 720x504 with 1 Axes>"
      ]
     },
     "metadata": {
      "needs_background": "light"
     },
     "output_type": "display_data"
    }
   ],
   "source": [
    "plt.figure(figsize=[10,7])\n",
    "n, bin, patches = plt.hist(framenumber_df, color = 'red')\n",
    "plt.show()"
   ]
  },
  {
   "cell_type": "markdown",
   "metadata": {},
   "source": [
    "### The graph delivers that which individual frame number is standing out to its working policy i.e. speed processing, low load and large data transmission."
   ]
  },
  {
   "cell_type": "code",
   "execution_count": 8,
   "metadata": {},
   "outputs": [
    {
     "data": {
      "image/png": "[encoded data removed]",
      "text/plain": [
       "<Figure size 720x576 with 1 Axes>"
      ]
     },
     "metadata": {
      "needs_background": "light"
     },
     "output_type": "display_data"
    }
   ],
   "source": [
    "plt.figure(figsize=[10,8])\n",
    "x = framenumber_df\n",
    "y = frametime_df\n",
    "n, bins, patches = plt.hist([x, y])"
   ]
  },
  {
   "cell_type": "markdown",
   "metadata": {},
   "source": [
    "### This graph signifies that the time series over x-axis is in logarithmic unit(micro seconds/milli seconds) which implies that the framenumber and frametime duration of activeness. In ths we can see that individual frame enables in no time but but frame time eats a bit of time."
   ]
  },
  {
   "cell_type": "code",
   "execution_count": 9,
   "metadata": {},
   "outputs": [],
   "source": [
    "framelen_df = NL_df.iloc[:,2]\n",
    "ipproto_df = NL_df.iloc[:,7]\n",
    "iplen_df = NL_df.iloc[:,8]\n",
    "tcplen_df = NL_df.iloc[:,9]\n",
    "tsport_df = NL_df.iloc[:,10]\n",
    "normality_df = NL_df.iloc[:,13]"
   ]
  },
  {
   "cell_type": "code",
   "execution_count": 10,
   "metadata": {},
   "outputs": [
    {
     "data": {
      "text/plain": [
       "<matplotlib.axes._subplots.AxesSubplot at 0x1a91a36a608>"
      ]
     },
     "execution_count": 10,
     "metadata": {},
     "output_type": "execute_result"
    },
    {
     "data": {
      "image/png": "[encoded data removed]",
      "text/plain": [
       "<Figure size 432x288 with 1 Axes>"
      ]
     },
     "metadata": {
      "needs_background": "light"
     },
     "output_type": "display_data"
    }
   ],
   "source": [
    "color = {'boxes': 'DarkGreen', 'whiskers': 'DarkOrange',\n",
    "         'medians': 'DarkBlue', 'caps': 'Gray'}\n",
    "df = pd.DataFrame(np.random.rand(10, 5), columns=['framenumber_df', 'ipproto_df', 'iplen_df', 'tcplen_df', 'tsport_df'])\n",
    "df.plot.box(color=color, sym='r+')"
   ]
  },
  {
   "cell_type": "markdown",
   "metadata": {},
   "source": [
    "### This graph groups the dataframes in the plot box with correspondings of it occurance and also emphasis its mean which equalizes the major of the box's group at one value. "
   ]
  },
  {
   "cell_type": "code",
   "execution_count": 11,
   "metadata": {},
   "outputs": [
    {
     "data": {
      "image/png": "[encoded data removed]",
      "text/plain": [
       "<Figure size 1800x1080 with 1 Axes>"
      ]
     },
     "metadata": {
      "needs_background": "light"
     },
     "output_type": "display_data"
    }
   ],
   "source": [
    "sample_df={'col_name_1': framenumber_df,\n",
    "      'col_name_2': normality_df}\n",
    "df= pd.DataFrame(sample_df)\n",
    "df.plot(x='col_name_1', y='col_name_2', style='o', figsize = [25,15]);"
   ]
  },
  {
   "cell_type": "markdown",
   "metadata": {},
   "source": [
    "### Each frame number keeps the historic of the componets, which decides the normality acceptance of the frame number. "
   ]
  },
  {
   "cell_type": "code",
   "execution_count": null,
   "metadata": {
    "scrolled": false
   },
   "outputs": [],
   "source": []
  },
  {
   "cell_type": "code",
   "execution_count": null,
   "metadata": {},
   "outputs": [],
   "source": []
  },
  {
   "cell_type": "code",
   "execution_count": null,
   "metadata": {},
   "outputs": [],
   "source": []
  },
  {
   "cell_type": "code",
   "execution_count": null,
   "metadata": {},
   "outputs": [],
   "source": []
  }
 ],
 "metadata": {
  "kernelspec": {
   "display_name": "Python 3",
   "language": "python",
   "name": "python3"
  },
  "language_info": {
   "codemirror_mode": {
    "name": "ipython",
    "version": 3
   },
   "file_extension": ".py",
   "mimetype": "text/x-python",
   "name": "python",
   "nbconvert_exporter": "python",
   "pygments_lexer": "ipython3",
   "version": "3.7.6"
  }
 },
 "nbformat": 4,
 "nbformat_minor": 4
}
